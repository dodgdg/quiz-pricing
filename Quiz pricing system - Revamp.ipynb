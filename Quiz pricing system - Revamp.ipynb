{
 "cells": [
  {
   "cell_type": "code",
   "execution_count": 2,
   "metadata": {},
   "outputs": [],
   "source": [
    "import numpy as np\n",
    "import pandas as pd\n",
    "import matplotlib.pyplot as plt\n",
    "from scipy.stats import binom"
   ]
  },
  {
   "cell_type": "code",
   "execution_count": 3,
   "metadata": {},
   "outputs": [],
   "source": [
    "DECAY = 0.8  # exponential MA decay"
   ]
  },
  {
   "cell_type": "code",
   "execution_count": 4,
   "metadata": {},
   "outputs": [],
   "source": [
    "def beta_mean(a, b):\n",
    "    return a / (a + b)\n",
    "\n",
    "def beta_sd(a, b):\n",
    "    return np.sqrt(a * b / (((a + b) ** 2) * (a + b + 1)))"
   ]
  },
  {
   "cell_type": "code",
   "execution_count": 5,
   "metadata": {},
   "outputs": [],
   "source": [
    "def price(ledger):\n",
    "    results = []\n",
    "    for c, q in ledger[::-1]:\n",
    "        results.extend(q * [c / q])\n",
    "    weights = [DECAY ** i for i in range(len(results))]\n",
    "    px = sum([w * r for w, r in zip(weights, results)]) / sum(weights)\n",
    "    return round(px * 100.0, 1)"
   ]
  },
  {
   "cell_type": "code",
   "execution_count": 20,
   "metadata": {},
   "outputs": [],
   "source": [
    "class QuizBeta():\n",
    "    def __init__(self):\n",
    "        self.ledger = []\n",
    "        \n",
    "        # Beta distribution params\n",
    "        self.a = 3\n",
    "        self.b = 3\n",
    "    \n",
    "    def __repr__(self):\n",
    "        return str(self.__dict__)\n",
    "    \n",
    "    def round_update(self, correct, questions):\n",
    "        self.ledger.append((correct, questions))\n",
    "        self.beta_update(correct, questions)\n",
    "    \n",
    "    def beta_update(self, correct, questions):\n",
    "        self.a += correct\n",
    "        self.b += questions - correct\n",
    "    \n",
    "    def price(self):\n",
    "        if len(self.ledger):\n",
    "            return price(self.ledger)\n",
    "        return 50\n",
    "    \n",
    "    def price_future(self, questions_left):\n",
    "        if questions_left <= 0:\n",
    "            return price(self.ledger), price(self.ledger)\n",
    "        k = 0.01  # the spread is (mean - k * questions_left * sigma, mean + k * sigma)\n",
    "        \n",
    "        lower_p = max(0.0, beta_mean(self.a, self.b) - k * questions_left * beta_sd(self.a, self.b))\n",
    "        upper_p = min(1.0, beta_mean(self.a, self.b) + k * questions_left * beta_sd(self.a, self.b))\n",
    "\n",
    "        lower_ledger = self.ledger + [(lower_p * questions_left, questions_left)]\n",
    "        upper_ledger = self.ledger + [(upper_p * questions_left, questions_left)]\n",
    "                \n",
    "        return price(lower_ledger), price(upper_ledger)"
   ]
  },
  {
   "cell_type": "code",
   "execution_count": 38,
   "metadata": {},
   "outputs": [],
   "source": [
    "class Future():\n",
    "    def __init__(self, player, tenor, name):\n",
    "        self.name = name\n",
    "        self.player = player.beta\n",
    "        self.tenor = tenor\n",
    "        self.expired = False\n",
    "    \n",
    "    def __repr__(self):\n",
    "        return str(self.__dict__)\n",
    "        \n",
    "    def buy_price(self):\n",
    "        return self.player.price_future(self.tenor)[1]\n",
    "    \n",
    "    def sell_price(self):\n",
    "        return self.player.price_future(self.tenor)[0]\n",
    "    \n",
    "    def roll(self, questions):\n",
    "        self.tenor -= questions\n",
    "        self.tenor = max(0, self.tenor)\n",
    "        if self.tenor == 0:\n",
    "            self.expired = True"
   ]
  },
  {
   "cell_type": "code",
   "execution_count": 39,
   "metadata": {},
   "outputs": [],
   "source": [
    "class Spot():\n",
    "    def __init__(self, player, name):\n",
    "        self.name = name\n",
    "        self.player = player.beta\n",
    "        self.expired = False\n",
    "    \n",
    "    def __repr__(self):\n",
    "        return str(self.__dict__)\n",
    "        \n",
    "    def buy_price(self):\n",
    "        return self.player.price()\n",
    "    \n",
    "    def sell_price(self):\n",
    "        return self.player.price()\n",
    "    \n",
    "    def roll(self, questions):\n",
    "        pass"
   ]
  },
  {
   "cell_type": "code",
   "execution_count": 40,
   "metadata": {},
   "outputs": [],
   "source": [
    "class Portfolio():\n",
    "    def __init__(self):\n",
    "        self.cash = 100.0\n",
    "        self.contracts = {}\n",
    "        \n",
    "    def value(self):\n",
    "        total = self.cash\n",
    "        for contract, volume in self.contracts.values():\n",
    "            if volume < 0:\n",
    "                total -= volume * contract.buy_price()\n",
    "            else:\n",
    "                total += volume * contract.sell_price()\n",
    "        return total\n",
    "    \n",
    "    def roll(self, questions):\n",
    "        for contract, volume in self.contracts.values():\n",
    "            contract.roll(questions)\n",
    "            if contract.expired:\n",
    "                if volume < 0:\n",
    "                    self.buy(contract, volume)\n",
    "                else:\n",
    "                    self.sell(contract, volume)\n",
    "                \n",
    "    \n",
    "    def buy(self, contract, volume):\n",
    "        if contract.name in self.contracts.keys():\n",
    "            current_volume = self.contracts[contract.name][1]\n",
    "            self.contracts[contract.name] = (contract, current_volume + volume)\n",
    "        else:\n",
    "            self.contracts[contract.name] = (contract, volume)\n",
    "        self.cash -= contract.buy_price() * volume\n",
    "        \n",
    "    def sell(self, contract, volume):\n",
    "        if contract.name in self.contracts.keys():\n",
    "            current_volume = self.contracts[contract.name][1]\n",
    "            self.contracts[contract.name] = (contract, current_volume - volume)\n",
    "        else:\n",
    "            self.contracts[contract.name] = (contract, -volume)\n",
    "        self.cash += contract.sell_price() * volume\n",
    "        \n",
    "    def __repr__(self):\n",
    "        return '\\n'.join([f'\"{name}\" x{volume}' for name, (_, volume) in self.contracts.items()]\n",
    "                         + [f'CASH: {self.cash}'])"
   ]
  },
  {
   "cell_type": "code",
   "execution_count": 41,
   "metadata": {},
   "outputs": [],
   "source": [
    "class Player():\n",
    "    def __init__(self, name):\n",
    "        self.name = name\n",
    "        self.beta = QuizBeta()\n",
    "        self.portfolio = Portfolio()\n",
    "    \n",
    "    def __repr__(self):\n",
    "        return str(self.__dict__)"
   ]
  },
  {
   "cell_type": "code",
   "execution_count": 42,
   "metadata": {},
   "outputs": [],
   "source": [
    "class Quiz():\n",
    "    def __init__(self, players):\n",
    "        self.players = players\n",
    "        \n",
    "    def round_update(self, scores, total):\n",
    "        if set(scores.keys()) != set(self.players.keys()):\n",
    "            raise ValueError('Missing some players or too many players')\n",
    "        for player, score in scores.items():\n",
    "            self.players[player].beta.round_update(score, total)\n",
    "            self.players[player].portfolio.roll(total)\n"
   ]
  },
  {
   "cell_type": "code",
   "execution_count": 43,
   "metadata": {},
   "outputs": [],
   "source": [
    "def player_values(quiz):\n",
    "    for name, player in quiz.players.items():\n",
    "        print(f'{name}: Q${player.portfolio.value():.1f}')"
   ]
  },
  {
   "cell_type": "code",
   "execution_count": 44,
   "metadata": {},
   "outputs": [],
   "source": [
    "ben = Player('Ben')\n",
    "tom = Player('Tom')\n",
    "jerry = Player('Jerry')"
   ]
  },
  {
   "cell_type": "code",
   "execution_count": 45,
   "metadata": {},
   "outputs": [],
   "source": [
    "quiz = Quiz({'Ben': ben, 'Tom': tom, 'Jerry': jerry})"
   ]
  },
  {
   "cell_type": "code",
   "execution_count": 46,
   "metadata": {},
   "outputs": [
    {
     "name": "stdout",
     "output_type": "stream",
     "text": [
      "Ben: Q$100.0\n",
      "Tom: Q$100.0\n",
      "Jerry: Q$100.0\n"
     ]
    }
   ],
   "source": [
    "player_values(quiz)"
   ]
  },
  {
   "cell_type": "code",
   "execution_count": 47,
   "metadata": {},
   "outputs": [],
   "source": [
    "ben.portfolio.buy(Spot(tom, 'tom'), 1)"
   ]
  },
  {
   "cell_type": "code",
   "execution_count": 48,
   "metadata": {},
   "outputs": [
    {
     "name": "stdout",
     "output_type": "stream",
     "text": [
      "Ben: Q$100.0\n",
      "Tom: Q$100.0\n",
      "Jerry: Q$100.0\n"
     ]
    }
   ],
   "source": [
    "player_values(quiz)"
   ]
  },
  {
   "cell_type": "code",
   "execution_count": 51,
   "metadata": {},
   "outputs": [],
   "source": [
    "quiz.round_update({'Ben': 3, 'Jerry': 10, 'Tom': 10}, 10)"
   ]
  },
  {
   "cell_type": "code",
   "execution_count": 52,
   "metadata": {},
   "outputs": [
    {
     "name": "stdout",
     "output_type": "stream",
     "text": [
      "Ben: Q$145.2\n",
      "Tom: Q$100.0\n",
      "Jerry: Q$100.0\n"
     ]
    }
   ],
   "source": [
    "player_values(quiz)"
   ]
  },
  {
   "cell_type": "code",
   "execution_count": 53,
   "metadata": {},
   "outputs": [],
   "source": [
    "quiz.round_update({'Ben': 3, 'Tom': 10, 'Jerry': 5}, 10)"
   ]
  },
  {
   "cell_type": "code",
   "execution_count": 54,
   "metadata": {},
   "outputs": [
    {
     "name": "stdout",
     "output_type": "stream",
     "text": [
      "Ben: Q$149.5\n",
      "Tom: Q$100.0\n",
      "Jerry: Q$100.0\n"
     ]
    }
   ],
   "source": [
    "player_values(quiz)"
   ]
  },
  {
   "cell_type": "code",
   "execution_count": 55,
   "metadata": {},
   "outputs": [],
   "source": [
    "quiz.round_update({'Ben': 3, 'Tom': 0, 'Jerry': 5}, 10)"
   ]
  },
  {
   "cell_type": "code",
   "execution_count": 56,
   "metadata": {},
   "outputs": [
    {
     "name": "stdout",
     "output_type": "stream",
     "text": [
      "Ben: Q$60.7\n",
      "Tom: Q$100.0\n",
      "Jerry: Q$100.0\n"
     ]
    }
   ],
   "source": [
    "player_values(quiz)"
   ]
  }
 ],
 "metadata": {
  "kernelspec": {
   "display_name": "Python 3",
   "language": "python",
   "name": "python3"
  },
  "language_info": {
   "codemirror_mode": {
    "name": "ipython",
    "version": 3
   },
   "file_extension": ".py",
   "mimetype": "text/x-python",
   "name": "python",
   "nbconvert_exporter": "python",
   "pygments_lexer": "ipython3",
   "version": "3.7.6"
  }
 },
 "nbformat": 4,
 "nbformat_minor": 4
}
