{
 "cells": [
  {
   "cell_type": "code",
   "execution_count": 6,
   "metadata": {},
   "outputs": [],
   "source": [
    "import numpy as np\n",
    "import pandas as pd\n",
    "import matplotlib.pyplot as plt\n",
    "from scipy.stats import binom"
   ]
  },
  {
   "cell_type": "code",
   "execution_count": 52,
   "metadata": {},
   "outputs": [],
   "source": [
    "def call(strike):\n",
    "    return lambda x: max(0, x - strike)\n",
    "\n",
    "def put(strike):\n",
    "    return lambda x: max(0, strike - x)\n",
    "\n",
    "def long(strike):\n",
    "    return lambda x: x - strike\n",
    "\n",
    "def short(strike):\n",
    "    return lambda x: strike - x\n",
    "\n",
    "def straddle(strike):\n",
    "    return lambda x: call(strike)(x) + put(strike)(x)"
   ]
  },
  {
   "cell_type": "code",
   "execution_count": 48,
   "metadata": {},
   "outputs": [],
   "source": [
    "class QuizPlayer():\n",
    "    def __init__(self, total_questions):\n",
    "        self.total_questions = total_questions\n",
    "        \n",
    "        self.answered = 0\n",
    "        self.correct = 0\n",
    "        self.score = 0\n",
    "        \n",
    "        self.ledger = []\n",
    "    \n",
    "    def __repr__(self):\n",
    "        return (f'has answered {self.answered} questions out of {self.total_questions} and '\n",
    "                f'got {self.correct} correct. Score is {self.score}')\n",
    "    \n",
    "    \n",
    "    def _round_update(self, correct, questions):\n",
    "        self.correct += correct\n",
    "        self.answered += questions\n",
    "        self.score += correct\n",
    "    \n",
    "    \n",
    "    def round_update(self, correct, questions):\n",
    "        self._round_update(correct, questions)\n",
    "        self.ledger.append((correct, questions))\n",
    "        print(f'got {correct}/{questions} this round')\n",
    "    \n",
    "        \n",
    "    def undo(self):\n",
    "        try:\n",
    "            args = self.ledger.pop(-1)\n",
    "            self._round_update(-args[0], -args[1])\n",
    "            print(f'Undo: round_update({args[0]}, {args[1]})')\n",
    "        except:\n",
    "            print('nothing to undo')\n",
    "\n",
    "    def price(self, option):\n",
    "        # note: binom.pmf(x, n, p, starting point)\n",
    "        remaining = self.total_questions - self.answered\n",
    "        try:\n",
    "            accuracy = self.correct / self.answered\n",
    "        except:\n",
    "            accuracy = 0.5\n",
    "        return sum([option(x) * binom.pmf(x, remaining, accuracy, self.score)\n",
    "                   for x in range(-self.total_questions, 2*self.total_questions)]).round()\n",
    "    \n",
    "    def shock(self, score):\n",
    "        self.score += score"
   ]
  },
  {
   "cell_type": "code",
   "execution_count": 49,
   "metadata": {},
   "outputs": [],
   "source": [
    "awais = QuizPlayer(20)"
   ]
  },
  {
   "cell_type": "code",
   "execution_count": 50,
   "metadata": {},
   "outputs": [
    {
     "name": "stdout",
     "output_type": "stream",
     "text": [
      "got 5/6 this round\n"
     ]
    }
   ],
   "source": [
    "awais.round_update(5, 6)"
   ]
  },
  {
   "cell_type": "code",
   "execution_count": 53,
   "metadata": {},
   "outputs": [
    {
     "name": "stdout",
     "output_type": "stream",
     "text": [
      "[0.0, 0.0, 0.0, 0.0, 0.0, 0.0, 0.0, 0.0, 0.0, 0.0, 0.0, 0.0, 0.0, 0.0, 0.0, 0.0, 0.0, 0.0, 0.0, 0.0, 0.0, 0.0, 0.0, 0.0, 0.0, 6.380467472191411e-11, 3.573061784427214e-09, 8.709338099541337e-08, 1.1612450799388402e-06, 7.983559924579507e-06, 0.0, 0.0005987669943434649, 0.006843051363925309, 0.044907524575759916, 0.19958899811448852, 0.6237156191077761, 1.3608340780533323, 1.9845496971611156, 1.744659074427353, 0.7009790924038447, 0.0, 0.0, 0.0, 0.0, 0.0, 0.0, 0.0, 0.0, 0.0, 0.0, 0.0, 0.0, 0.0, 0.0, 0.0, 0.0, 0.0, 0.0, 0.0, 0.0]\n"
     ]
    },
    {
     "data": {
      "text/plain": [
       "7.0"
      ]
     },
     "execution_count": 53,
     "metadata": {},
     "output_type": "execute_result"
    }
   ],
   "source": [
    "awais.price(straddle(10))"
   ]
  },
  {
   "cell_type": "code",
   "execution_count": 45,
   "metadata": {},
   "outputs": [
    {
     "data": {
      "text/plain": [
       "has answered 16 questions out of 20 and got 11 correct. Score is 11"
      ]
     },
     "execution_count": 45,
     "metadata": {},
     "output_type": "execute_result"
    }
   ],
   "source": [
    "awais"
   ]
  },
  {
   "cell_type": "code",
   "execution_count": null,
   "metadata": {},
   "outputs": [],
   "source": []
  }
 ],
 "metadata": {
  "kernelspec": {
   "display_name": "Python 3",
   "language": "python",
   "name": "python3"
  },
  "language_info": {
   "codemirror_mode": {
    "name": "ipython",
    "version": 3
   },
   "file_extension": ".py",
   "mimetype": "text/x-python",
   "name": "python",
   "nbconvert_exporter": "python",
   "pygments_lexer": "ipython3",
   "version": "3.7.6"
  }
 },
 "nbformat": 4,
 "nbformat_minor": 4
}
